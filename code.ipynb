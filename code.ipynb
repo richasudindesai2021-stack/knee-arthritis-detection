{
 "cells": [
  {
   "cell_type": "code",
   "execution_count": 2,
   "id": "initial_id",
   "metadata": {
    "collapsed": true,
    "ExecuteTime": {
     "end_time": "2025-10-12T22:45:44.548391700Z",
     "start_time": "2025-10-12T22:45:44.541522300Z"
    }
   },
   "outputs": [],
   "source": [
    "# Import necessary libraries\n",
    "import os\n",
    "import numpy as np\n",
    "import pandas as pd\n",
    "import matplotlib.pyplot as plt\n",
    "import seaborn as sns\n",
    "from sklearn.model_selection import train_test_split\n",
    "from tensorflow.keras.preprocessing.image import ImageDataGenerator\n",
    "from tensorflow.keras.models import Sequential\n",
    "from tensorflow.keras.layers import Conv2D, MaxPooling2D, Flatten, Dense, Dropout\n",
    "from tensorflow.keras.optimizers import Adam\n",
    "from tensorflow.keras.applications import ResNet50\n",
    "from tensorflow.keras.callbacks import EarlyStopping, ModelCheckpoint\n",
    "from sklearn.metrics import classification_report, confusion_matrix"
   ]
  },
  {
   "cell_type": "code",
   "execution_count": 2,
   "outputs": [
    {
     "name": "stdout",
     "output_type": "stream",
     "text": [
      "Dataset Structure Analysis:\n",
      "--------------------------------------------------\n",
      "\n",
      "Training Dataset:\n",
      "0Normal: 444 images\n",
      "1Doubtful: 431 images\n",
      "2Mild: 183 images\n",
      "3Moderate: 167 images\n",
      "4Severe: 198 images\n",
      "\n",
      "Testing Dataset:\n",
      "0Normal: 8 images\n",
      "1Doubtful: 9 images\n",
      "2Mild: 8 images\n",
      "3Moderate: 8 images\n",
      "4Severe: 8 images\n"
     ]
    }
   ],
   "source": [
    "# Set up data paths and explore dataset\n",
    "train_dir = \"C:\\Projects\\Autoimmune\\Training\"\n",
    "test_dir = \"C:\\Projects\\Autoimmune\\Testing\"\n",
    "\n",
    "# Function to analyze dataset structure\n",
    "def analyze_dataset(train_path, test_path):\n",
    "    print(\"Dataset Structure Analysis:\")\n",
    "    print(\"-\" * 50)\n",
    "    \n",
    "    # Analyze training data\n",
    "    print(\"\\nTraining Dataset:\")\n",
    "    train_classes = os.listdir(train_path)\n",
    "    for class_name in train_classes:\n",
    "        class_path = os.path.join(train_path, class_name)\n",
    "        n_samples = len(os.listdir(class_path))\n",
    "        print(f\"{class_name}: {n_samples} images\")\n",
    "    \n",
    "    # Analyze testing data\n",
    "    print(\"\\nTesting Dataset:\")\n",
    "    test_classes = os.listdir(test_path)\n",
    "    for class_name in test_classes:\n",
    "        class_path = os.path.join(test_path, class_name)\n",
    "        n_samples = len(os.listdir(class_path))\n",
    "        print(f\"{class_name}: {n_samples} images\")\n",
    "\n",
    "# Execute analysis\n",
    "try:\n",
    "    analyze_dataset(train_dir, test_dir)\n",
    "except FileNotFoundError:\n",
    "    print(\"Error: Please ensure your Training and Testing folders are in the current working directory\")\n",
    "    print(\"Current working directory:\", os.getcwd())\n"
   ],
   "metadata": {
    "collapsed": false,
    "ExecuteTime": {
     "end_time": "2025-02-04T12:44:58.953211400Z",
     "start_time": "2025-02-04T12:44:58.940222300Z"
    }
   },
   "id": "888c988280287c79"
  },
  {
   "cell_type": "code",
   "execution_count": 5,
   "outputs": [
    {
     "name": "stdout",
     "output_type": "stream",
     "text": [
      "Verifying folder structure...\n",
      "C:\\Projects\\Autoimmune\\Training/0Normal: 444 images\n",
      "C:\\Projects\\Autoimmune\\Training/1Doubtful: 431 images\n",
      "C:\\Projects\\Autoimmune\\Training/2Mild: 183 images\n",
      "C:\\Projects\\Autoimmune\\Training/3Moderate: 167 images\n",
      "C:\\Projects\\Autoimmune\\Training/4Severe: 198 images\n",
      "C:\\Projects\\Autoimmune\\Testing/0Normal: 8 images\n",
      "C:\\Projects\\Autoimmune\\Testing/1Doubtful: 9 images\n",
      "C:\\Projects\\Autoimmune\\Testing/2Mild: 8 images\n",
      "C:\\Projects\\Autoimmune\\Testing/3Moderate: 8 images\n",
      "C:\\Projects\\Autoimmune\\Testing/4Severe: 8 images\n",
      "Found 1141 images belonging to 5 classes.\n",
      "Found 282 images belonging to 5 classes.\n",
      "Found 41 images belonging to 5 classes.\n",
      "\n",
      "Generator Details:\n",
      "Training samples: 1141\n",
      "Validation samples: 282\n",
      "Test samples: 41\n",
      "\n",
      "Class mapping: {'0Normal': 0, '1Doubtful': 1, '2Mild': 2, '3Moderate': 3, '4Severe': 4}\n"
     ]
    }
   ],
   "source": [
    "# Set up image parameters and data generators\n",
    "IMG_HEIGHT = 224\n",
    "IMG_WIDTH = 224\n",
    "BATCH_SIZE = 32\n",
    "\n",
    "# Verify data paths and class names\n",
    "class_names = ['0Normal', '1Doubtful', '2Mild', '3Moderate', '4Severe']\n",
    "train_dir = 'C:\\Projects\\Autoimmune\\Training'\n",
    "test_dir = 'C:\\Projects\\Autoimmune\\Testing'\n",
    "\n",
    "# Verify folder structure\n",
    "print(\"Verifying folder structure...\")\n",
    "for folder in [train_dir, test_dir]:\n",
    "    for class_name in class_names:\n",
    "        path = os.path.join(folder, class_name)\n",
    "        if os.path.exists(path):\n",
    "            num_images = len(os.listdir(path))\n",
    "            print(f\"{folder}/{class_name}: {num_images} images\")\n",
    "        else:\n",
    "            print(f\"Warning: {path} not found\")\n",
    "\n",
    "# Create data generators with appropriate augmentation\n",
    "train_datagen = ImageDataGenerator(\n",
    "    rescale=1./255,\n",
    "    rotation_range=15,\n",
    "    width_shift_range=0.1,\n",
    "    height_shift_range=0.1,\n",
    "    zoom_range=0.1,\n",
    "    horizontal_flip=True,\n",
    "    validation_split=0.2\n",
    ")\n",
    "\n",
    "test_datagen = ImageDataGenerator(rescale=1./255)\n",
    "\n",
    "# Create generators with explicit class mapping\n",
    "train_generator = train_datagen.flow_from_directory(\n",
    "    directory=train_dir,\n",
    "    target_size=(IMG_HEIGHT, IMG_WIDTH),\n",
    "    batch_size=BATCH_SIZE,\n",
    "    classes=class_names,\n",
    "    class_mode='categorical',\n",
    "    subset='training',\n",
    "    shuffle=True\n",
    ")\n",
    "\n",
    "validation_generator = train_datagen.flow_from_directory(\n",
    "    directory=train_dir,\n",
    "    target_size=(IMG_HEIGHT, IMG_WIDTH),\n",
    "    batch_size=BATCH_SIZE,\n",
    "    classes=class_names,\n",
    "    class_mode='categorical',\n",
    "    subset='validation',\n",
    "    shuffle=True\n",
    ")\n",
    "\n",
    "test_generator = test_datagen.flow_from_directory(\n",
    "    directory=test_dir,\n",
    "    target_size=(IMG_HEIGHT, IMG_WIDTH),\n",
    "    batch_size=BATCH_SIZE,\n",
    "    classes=class_names,\n",
    "    class_mode='categorical',\n",
    "    shuffle=False\n",
    ")\n",
    "\n",
    "# Print generator details\n",
    "print(\"\\nGenerator Details:\")\n",
    "print(f\"Training samples: {train_generator.samples}\")\n",
    "print(f\"Validation samples: {validation_generator.samples}\")\n",
    "print(f\"Test samples: {test_generator.samples}\")\n",
    "print(\"\\nClass mapping:\", train_generator.class_indices)\n"
   ],
   "metadata": {
    "collapsed": false,
    "ExecuteTime": {
     "end_time": "2025-02-04T12:49:26.771239200Z",
     "start_time": "2025-02-04T12:49:26.689857400Z"
    }
   },
   "id": "a97963617ca62347"
  },
  {
   "cell_type": "code",
   "execution_count": 11,
   "outputs": [],
   "source": [
    "from tensorflow.keras.layers import Input\n",
    "from tensorflow.keras.models import Model\n",
    "\n",
    "def create_custom_cnn():\n",
    "    # Define input layer explicitly\n",
    "    inputs = Input(shape=(224, 224, 3))\n",
    "    \n",
    "    # First Convolutional Block\n",
    "    x = Conv2D(32, (3, 3), activation='relu', padding='same')(inputs)\n",
    "    x = Conv2D(32, (3, 3), activation='relu', padding='same')(x)\n",
    "    x = MaxPooling2D(pool_size=(2, 2))(x)\n",
    "    x = Dropout(0.25)(x)\n",
    "    \n",
    "    # Second Convolutional Block\n",
    "    x = Conv2D(64, (3, 3), activation='relu', padding='same')(x)\n",
    "    x = Conv2D(64, (3, 3), activation='relu', padding='same')(x)\n",
    "    x = MaxPooling2D(pool_size=(2, 2))(x)\n",
    "    x = Dropout(0.25)(x)\n",
    "    \n",
    "    # Third Convolutional Block\n",
    "    x = Conv2D(128, (3, 3), activation='relu', padding='same')(x)\n",
    "    x = Conv2D(128, (3, 3), activation='relu', padding='same')(x)\n",
    "    x = MaxPooling2D(pool_size=(2, 2))(x)\n",
    "    x = Dropout(0.25)(x)\n",
    "    \n",
    "    # Dense Layers\n",
    "    x = Flatten()(x)\n",
    "    x = Dense(512, activation='relu')(x)\n",
    "    x = Dropout(0.5)(x)\n",
    "    outputs = Dense(5, activation='softmax')(x)\n",
    "    \n",
    "    # Create model\n",
    "    model = Model(inputs=inputs, outputs=outputs)\n",
    "    return model\n"
   ],
   "metadata": {
    "collapsed": false,
    "ExecuteTime": {
     "end_time": "2025-02-04T12:53:33.656331100Z",
     "start_time": "2025-02-04T12:53:33.648857100Z"
    }
   },
   "id": "9d7759d0a329b63b"
  },
  {
   "cell_type": "code",
   "execution_count": 14,
   "outputs": [
    {
     "name": "stdout",
     "output_type": "stream",
     "text": [
      "Epoch 1/20\n",
      "\u001B[1m36/36\u001B[0m \u001B[32m━━━━━━━━━━━━━━━━━━━━\u001B[0m\u001B[37m\u001B[0m \u001B[1m69s\u001B[0m 2s/step - accuracy: 0.3140 - loss: 3.3291 - val_accuracy: 0.3050 - val_loss: 1.5491 - learning_rate: 0.0010\n",
      "Epoch 2/20\n",
      "\u001B[1m36/36\u001B[0m \u001B[32m━━━━━━━━━━━━━━━━━━━━\u001B[0m\u001B[37m\u001B[0m \u001B[1m68s\u001B[0m 2s/step - accuracy: 0.3082 - loss: 1.5451 - val_accuracy: 0.1986 - val_loss: 1.5352 - learning_rate: 0.0010\n",
      "Epoch 3/20\n",
      "\u001B[1m36/36\u001B[0m \u001B[32m━━━━━━━━━━━━━━━━━━━━\u001B[0m\u001B[37m\u001B[0m \u001B[1m69s\u001B[0m 2s/step - accuracy: 0.3384 - loss: 1.5173 - val_accuracy: 0.2872 - val_loss: 1.5558 - learning_rate: 0.0010\n",
      "Epoch 4/20\n",
      "\u001B[1m36/36\u001B[0m \u001B[32m━━━━━━━━━━━━━━━━━━━━\u001B[0m\u001B[37m\u001B[0m \u001B[1m104s\u001B[0m 3s/step - accuracy: 0.3695 - loss: 1.5103 - val_accuracy: 0.2589 - val_loss: 1.5345 - learning_rate: 0.0010\n",
      "Epoch 5/20\n",
      "\u001B[1m36/36\u001B[0m \u001B[32m━━━━━━━━━━━━━━━━━━━━\u001B[0m\u001B[37m\u001B[0m \u001B[1m69s\u001B[0m 2s/step - accuracy: 0.3379 - loss: 1.4964 - val_accuracy: 0.2518 - val_loss: 1.5348 - learning_rate: 0.0010\n",
      "Epoch 6/20\n",
      "\u001B[1m36/36\u001B[0m \u001B[32m━━━━━━━━━━━━━━━━━━━━\u001B[0m\u001B[37m\u001B[0m \u001B[1m69s\u001B[0m 2s/step - accuracy: 0.3654 - loss: 1.5021 - val_accuracy: 0.2801 - val_loss: 1.5394 - learning_rate: 0.0010\n",
      "Epoch 7/20\n",
      "\u001B[1m36/36\u001B[0m \u001B[32m━━━━━━━━━━━━━━━━━━━━\u001B[0m\u001B[37m\u001B[0m \u001B[1m68s\u001B[0m 2s/step - accuracy: 0.3647 - loss: 1.4690 - val_accuracy: 0.2447 - val_loss: 1.5449 - learning_rate: 0.0010\n",
      "Epoch 8/20\n",
      "\u001B[1m36/36\u001B[0m \u001B[32m━━━━━━━━━━━━━━━━━━━━\u001B[0m\u001B[37m\u001B[0m \u001B[1m69s\u001B[0m 2s/step - accuracy: 0.3813 - loss: 1.4691 - val_accuracy: 0.2092 - val_loss: 1.5416 - learning_rate: 0.0010\n",
      "Epoch 9/20\n",
      "\u001B[1m36/36\u001B[0m \u001B[32m━━━━━━━━━━━━━━━━━━━━\u001B[0m\u001B[37m\u001B[0m \u001B[1m115s\u001B[0m 3s/step - accuracy: 0.3681 - loss: 1.4829 - val_accuracy: 0.2624 - val_loss: 1.5464 - learning_rate: 0.0010\n",
      "Epoch 10/20\n",
      "\u001B[1m36/36\u001B[0m \u001B[32m━━━━━━━━━━━━━━━━━━━━\u001B[0m\u001B[37m\u001B[0m \u001B[1m170s\u001B[0m 5s/step - accuracy: 0.4012 - loss: 1.4590 - val_accuracy: 0.2837 - val_loss: 1.5538 - learning_rate: 2.0000e-04\n",
      "Epoch 11/20\n",
      "\u001B[1m36/36\u001B[0m \u001B[32m━━━━━━━━━━━━━━━━━━━━\u001B[0m\u001B[37m\u001B[0m \u001B[1m165s\u001B[0m 5s/step - accuracy: 0.3916 - loss: 1.4441 - val_accuracy: 0.3121 - val_loss: 1.5492 - learning_rate: 2.0000e-04\n",
      "Epoch 12/20\n",
      "\u001B[1m36/36\u001B[0m \u001B[32m━━━━━━━━━━━━━━━━━━━━\u001B[0m\u001B[37m\u001B[0m \u001B[1m98s\u001B[0m 3s/step - accuracy: 0.3997 - loss: 1.4353 - val_accuracy: 0.2908 - val_loss: 1.5551 - learning_rate: 2.0000e-04\n",
      "Epoch 13/20\n",
      "\u001B[1m36/36\u001B[0m \u001B[32m━━━━━━━━━━━━━━━━━━━━\u001B[0m\u001B[37m\u001B[0m \u001B[1m154s\u001B[0m 4s/step - accuracy: 0.4230 - loss: 1.4348 - val_accuracy: 0.2837 - val_loss: 1.5496 - learning_rate: 2.0000e-04\n",
      "Epoch 14/20\n",
      "\u001B[1m36/36\u001B[0m \u001B[32m━━━━━━━━━━━━━━━━━━━━\u001B[0m\u001B[37m\u001B[0m \u001B[1m131s\u001B[0m 4s/step - accuracy: 0.3970 - loss: 1.4528 - val_accuracy: 0.2943 - val_loss: 1.5569 - learning_rate: 2.0000e-04\n"
     ]
    }
   ],
   "source": [
    "# Create and compile the model (assuming model is already defined)\n",
    "model = create_custom_cnn()\n",
    "model.compile(\n",
    "    optimizer=Adam(learning_rate=0.001),\n",
    "    loss='categorical_crossentropy',\n",
    "    metrics=['accuracy']\n",
    ")\n",
    "\n",
    "# Define callbacks\n",
    "callbacks = [\n",
    "    EarlyStopping(\n",
    "        monitor='val_loss',\n",
    "        patience=10,\n",
    "        restore_best_weights=True\n",
    "    ),\n",
    "    ModelCheckpoint(\n",
    "        'best_model.keras',\n",
    "        monitor='val_accuracy',\n",
    "        save_best_only=True\n",
    "    ),\n",
    "    ReduceLROnPlateau(\n",
    "        monitor='val_loss',\n",
    "        factor=0.2,\n",
    "        patience=5,\n",
    "        min_lr=1e-6\n",
    "    )\n",
    "]\n",
    "\n",
    "# Train the model without the problematic parameters\n",
    "history = model.fit(\n",
    "    train_generator,\n",
    "    steps_per_epoch=len(train_generator),\n",
    "    validation_data=validation_generator,\n",
    "    validation_steps=len(validation_generator),\n",
    "    epochs=20,\n",
    "    callbacks=callbacks\n",
    ")\n"
   ],
   "metadata": {
    "collapsed": false,
    "ExecuteTime": {
     "end_time": "2025-02-04T13:26:19.251991100Z",
     "start_time": "2025-02-04T13:02:40.185900Z"
    }
   },
   "id": "e4b0034beb487ce1"
  },
  {
   "cell_type": "code",
   "execution_count": 15,
   "outputs": [],
   "source": [
    "def create_improved_cnn():\n",
    "    inputs = Input(shape=(224, 224, 3))\n",
    "    \n",
    "    # Add batch normalization after input\n",
    "    x = BatchNormalization()(inputs)\n",
    "    \n",
    "    # Increase initial filters and add residual connections\n",
    "    x = Conv2D(64, (3, 3), activation='relu', padding='same')(x)\n",
    "    x = BatchNormalization()(x)\n",
    "    x = Conv2D(64, (3, 3), activation='relu', padding='same')(x)\n",
    "    x = MaxPooling2D()(x)\n",
    "    x = Dropout(0.3)(x)\n",
    "    \n",
    "    # Additional layers with increased capacity\n",
    "    x = Conv2D(128, (3, 3), activation='relu', padding='same')(x)\n",
    "    x = BatchNormalization()(x)\n",
    "    x = Conv2D(128, (3, 3), activation='relu', padding='same')(x)\n",
    "    x = MaxPooling2D()(x)\n",
    "    x = Dropout(0.3)(x)\n",
    "    \n",
    "    x = Flatten()(x)\n",
    "    x = Dense(1024, activation='relu')(x)\n",
    "    x = Dropout(0.5)(x)\n",
    "    outputs = Dense(5, activation='softmax')(x)\n",
    "    \n",
    "    return Model(inputs, outputs)\n"
   ],
   "metadata": {
    "collapsed": false,
    "ExecuteTime": {
     "end_time": "2025-02-04T13:38:05.236113300Z",
     "start_time": "2025-02-04T13:38:05.225926700Z"
    }
   },
   "id": "659e4a9148892308"
  },
  {
   "cell_type": "code",
   "execution_count": 16,
   "outputs": [],
   "source": [
    "# Modify training parameters\n",
    "model.compile(\n",
    "    optimizer=Adam(learning_rate=0.0005),  # Lower initial learning rate\n",
    "    loss='categorical_crossentropy',\n",
    "    metrics=['accuracy']\n",
    ")\n",
    "\n",
    "# Update callbacks\n",
    "callbacks = [\n",
    "    EarlyStopping(monitor='val_loss', patience=15, restore_best_weights=True),\n",
    "    ReduceLROnPlateau(monitor='val_loss', factor=0.1, patience=7, min_lr=1e-6),\n",
    "    ModelCheckpoint('best_model.h5', monitor='val_accuracy', save_best_only=True)\n",
    "]\n"
   ],
   "metadata": {
    "collapsed": false,
    "ExecuteTime": {
     "end_time": "2025-02-04T13:38:17.072255400Z",
     "start_time": "2025-02-04T13:38:17.032472500Z"
    }
   },
   "id": "c05141a23c4000c9"
  },
  {
   "cell_type": "code",
   "execution_count": 19,
   "outputs": [],
   "source": [
    "train_datagen = ImageDataGenerator(\n",
    "    rescale=1./255,\n",
    "    rotation_range=20,\n",
    "    width_shift_range=0.2,\n",
    "    height_shift_range=0.2,\n",
    "    zoom_range=0.2,\n",
    "    horizontal_flip=True,\n",
    "    fill_mode='nearest',\n",
    "    validation_split=0.2\n",
    ")\n"
   ],
   "metadata": {
    "collapsed": false,
    "ExecuteTime": {
     "end_time": "2025-02-04T14:12:41.631157Z",
     "start_time": "2025-02-04T14:12:41.614131400Z"
    }
   },
   "id": "60eddb0fba413705"
  },
  {
   "cell_type": "code",
   "execution_count": 21,
   "outputs": [],
   "source": [
    "from tensorflow.keras.applications import DenseNet121\n",
    "\n",
    "def create_transfer_model():\n",
    "    base_model = DenseNet121(\n",
    "        weights='imagenet',\n",
    "        include_top=False,\n",
    "        input_shape=(224, 224, 3)\n",
    "    )\n",
    "    \n",
    "    # Freeze base model\n",
    "    base_model.trainable = False\n",
    "    \n",
    "    model = Sequential([\n",
    "        base_model,\n",
    "        GlobalAveragePooling2D(),\n",
    "        Dense(512, activation='relu'),\n",
    "        BatchNormalization(),\n",
    "        Dropout(0.5),\n",
    "        Dense(5, activation='softmax')\n",
    "    ])\n",
    "    return model\n"
   ],
   "metadata": {
    "collapsed": false,
    "ExecuteTime": {
     "end_time": "2025-02-04T14:12:46.470089400Z",
     "start_time": "2025-02-04T14:12:46.463799700Z"
    }
   },
   "id": "2e7b012bcf1fd935"
  },
  {
   "cell_type": "code",
   "execution_count": null,
   "outputs": [],
   "source": [
    "# Calculate class weights to handle imbalance\n",
    "from sklearn.utils.class_weight import compute_class_weight\n",
    "\n",
    "class_weights = compute_class_weight(\n",
    "    'balanced',\n",
    "    classes=np.unique(train_generator.classes),\n",
    "    y=train_generator.classes\n",
    ")\n",
    "class_weight_dict = dict(enumerate(class_weights))\n",
    "\n",
    "# Update training\n",
    "history = model.fit(\n",
    "    train_generator,\n",
    "    validation_data=validation_generator,\n",
    "    epochs=30,\n",
    "    callbacks=callbacks,\n",
    "    class_weight=class_weight_dict\n",
    ")\n"
   ],
   "metadata": {
    "collapsed": false,
    "is_executing": true
   },
   "id": "7fea6ce063310e3f"
  },
  {
   "cell_type": "code",
   "execution_count": null,
   "outputs": [],
   "source": [
    "# Implement a warmup learning rate schedule\n",
    "initial_learning_rate = 1e-4\n",
    "warmup_epochs = 5\n",
    "\n",
    "lr_schedule = tf.keras.optimizers.schedules.CosineDecay(\n",
    "    initial_learning_rate,\n",
    "    decay_steps=20*len(train_generator),\n",
    "    alpha=1e-6\n",
    ")\n",
    "\n",
    "optimizer = Adam(learning_rate=lr_schedule)\n"
   ],
   "metadata": {
    "collapsed": false
   },
   "id": "984f6a18ee0fb2c3"
  }
 ],
 "metadata": {
  "kernelspec": {
   "display_name": "Python 3",
   "language": "python",
   "name": "python3"
  },
  "language_info": {
   "codemirror_mode": {
    "name": "ipython",
    "version": 2
   },
   "file_extension": ".py",
   "mimetype": "text/x-python",
   "name": "python",
   "nbconvert_exporter": "python",
   "pygments_lexer": "ipython2",
   "version": "2.7.6"
  }
 },
 "nbformat": 4,
 "nbformat_minor": 5
}
